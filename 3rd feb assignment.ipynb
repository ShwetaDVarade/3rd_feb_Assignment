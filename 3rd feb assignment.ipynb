{
 "cells": [
  {
   "cell_type": "markdown",
   "metadata": {},
   "source": [
    "Q.1) Ans:"
   ]
  },
  {
   "cell_type": "markdown",
   "metadata": {},
   "source": [
    "'def' keyword is used to create a function."
   ]
  },
  {
   "cell_type": "code",
   "execution_count": 6,
   "metadata": {},
   "outputs": [
    {
     "name": "stdout",
     "output_type": "stream",
     "text": [
      "[1, 3, 5, 7, 9, 11, 13, 15, 17, 19, 21, 23, 25]\n"
     ]
    }
   ],
   "source": [
    "def find_odd_numbers():\n",
    "    odd_numbers = []\n",
    "    for number in range (1, 26):\n",
    "        if number % 2 != 0:\n",
    "            odd_numbers.append(number)\n",
    "    return odd_numbers\n",
    "\n",
    "result = find_odd_numbers()\n",
    "print(result)"
   ]
  },
  {
   "cell_type": "markdown",
   "metadata": {},
   "source": [
    "Q.2) Ans:"
   ]
  },
  {
   "cell_type": "markdown",
   "metadata": {},
   "source": [
    "'*args' and '**kwargs' are used in python functions to allow them to accept a variable number of positional and keywords, respectively. These construct are useful when you want to create flexible functions that can handle different numbers of arguments without specifying them explicitly in the function definition."
   ]
  },
  {
   "cell_type": "markdown",
   "metadata": {},
   "source": [
    "Example of a function using '*args'."
   ]
  },
  {
   "cell_type": "code",
   "execution_count": 7,
   "metadata": {},
   "outputs": [
    {
     "name": "stdout",
     "output_type": "stream",
     "text": [
      "15\n"
     ]
    }
   ],
   "source": [
    "def sum_all_numbers (*args):\n",
    "    result = 0\n",
    "    for num in args:\n",
    "        result += num\n",
    "    return result\n",
    "\n",
    "result = sum_all_numbers(1,2,3,4,5)\n",
    "print(result)"
   ]
  },
  {
   "cell_type": "markdown",
   "metadata": {},
   "source": [
    "Example of a function using '**kwargs'."
   ]
  },
  {
   "cell_type": "code",
   "execution_count": 11,
   "metadata": {},
   "outputs": [
    {
     "name": "stdout",
     "output_type": "stream",
     "text": [
      "name : Radha\n",
      "age : 25\n",
      "village : Vrindavan\n"
     ]
    }
   ],
   "source": [
    "def print_info(**kwargs):\n",
    "    for key, value in kwargs.items():\n",
    "        print(f\"{key} : {value}\")\n",
    "        \n",
    "print_info(name = \"Radha\", age = 25, village = \"Vrindavan\")\n",
    "        "
   ]
  },
  {
   "cell_type": "markdown",
   "metadata": {},
   "source": [
    "Q.3) Ans:"
   ]
  },
  {
   "cell_type": "markdown",
   "metadata": {},
   "source": [
    "In Python, an iterator is an object that allows you to traverse through a sequence of elements one at a time. It provides two primary methods. "
   ]
  },
  {
   "cell_type": "code",
   "execution_count": 15,
   "metadata": {},
   "outputs": [
    {
     "name": "stdout",
     "output_type": "stream",
     "text": [
      "2\n",
      "4\n",
      "6\n",
      "8\n",
      "10\n"
     ]
    }
   ],
   "source": [
    "'''(1) '__iter__()' : THis method is uded to initialize the iterator object. It returns the iterator object itself.\n",
    "\n",
    "(2) '__next__()' : This method is used for iteration and reurns the next element in the sequence. When there are no meore elements to iterate,\n",
    "it raises the 'StopIteration' exception to single the end of the iteration. '''\n",
    "\n",
    "my_list = [2,4,6,8,10,12,14,16,18,20]\n",
    "\n",
    "my_iterator = iter(my_list)\n",
    "\n",
    "for i in range(5):\n",
    "    element = next (my_iterator, None)\n",
    "    if element is not None :\n",
    "        print(element)\n",
    "    else:\n",
    "        print(\"End of iteration\")\n",
    "        break"
   ]
  },
  {
   "cell_type": "markdown",
   "metadata": {},
   "source": [
    "Q.4) Ans:"
   ]
  },
  {
   "cell_type": "markdown",
   "metadata": {},
   "source": [
    "In python, a generator function is a special type of function that allows you to create iterators using a more concise and memory-efficient syntax. Instead of returning a single result using 'reutrn', a generator function uses the 'yield' keuword to yield a sequence of values at a time. These values are generated on the fly and are not stored in momory all at once, making generators especially useful for working with large datasets or infinite sequences. \n",
    "    The 'yield' keyword is used to indicate where the generator should temporarily pause and yield a value to the caller. When the generator function is called again, it continues executing from where it left off, maintaing its state and generating the next value in the sequence."
   ]
  },
  {
   "cell_type": "code",
   "execution_count": 18,
   "metadata": {},
   "outputs": [
    {
     "name": "stdout",
     "output_type": "stream",
     "text": [
      "0\n",
      "1\n",
      "4\n",
      "9\n",
      "16\n"
     ]
    }
   ],
   "source": [
    "def generate_squares(n):\n",
    "    for i in range(n):\n",
    "        yield i**2\n",
    "    \n",
    "squares_generator = generate_squares(5)\n",
    "\n",
    "for square in squares_generator:\n",
    "    print(square)"
   ]
  },
  {
   "cell_type": "markdown",
   "metadata": {},
   "source": [
    "Q.5) Ans:"
   ]
  },
  {
   "cell_type": "code",
   "execution_count": 19,
   "metadata": {},
   "outputs": [
    {
     "name": "stdout",
     "output_type": "stream",
     "text": [
      "2\n",
      "3\n",
      "5\n",
      "7\n",
      "11\n",
      "13\n",
      "17\n",
      "19\n",
      "23\n",
      "29\n",
      "31\n",
      "37\n",
      "41\n",
      "43\n",
      "47\n",
      "53\n",
      "59\n",
      "61\n",
      "67\n",
      "71\n"
     ]
    }
   ],
   "source": [
    "def is_prime(number):\n",
    "    if number <= 1:\n",
    "        return False\n",
    "    if number == 2:\n",
    "        return True\n",
    "    if number % 2 == 0:\n",
    "        return False\n",
    "    for i in range(3, int(number**0.5) + 1, 2):\n",
    "        if number % i == 0:\n",
    "            return False\n",
    "    return True\n",
    "\n",
    "def generate_primes():\n",
    "    num = 2 \n",
    "    count = 0\n",
    "    \n",
    "    while count < 20:\n",
    "        if is_prime (num):\n",
    "            yield num\n",
    "            count += 1\n",
    "        num += 1\n",
    "        \n",
    "prime_generator = generate_primes()\n",
    "\n",
    "for i in range(20):\n",
    "    prime = next(prime_generator)\n",
    "    print(prime)\n",
    "        "
   ]
  },
  {
   "cell_type": "markdown",
   "metadata": {},
   "source": [
    "Q.6) Ans:"
   ]
  },
  {
   "cell_type": "code",
   "execution_count": 21,
   "metadata": {},
   "outputs": [
    {
     "name": "stdout",
     "output_type": "stream",
     "text": [
      "0\n",
      "1\n",
      "1\n",
      "2\n",
      "3\n",
      "5\n",
      "8\n",
      "13\n",
      "21\n",
      "34\n"
     ]
    }
   ],
   "source": [
    "fib_a, fib_b = 0, 1\n",
    "\n",
    "count = 0\n",
    "\n",
    "limit = 10\n",
    "\n",
    "while count < limit:\n",
    "    print(fib_a)\n",
    "    fib_a, fib_b = fib_b, fib_a + fib_b\n",
    "    count += 1"
   ]
  },
  {
   "cell_type": "markdown",
   "metadata": {},
   "source": [
    "Q.7) Ans:"
   ]
  },
  {
   "cell_type": "code",
   "execution_count": 22,
   "metadata": {},
   "outputs": [
    {
     "name": "stdout",
     "output_type": "stream",
     "text": [
      "['p', 'w', 's', 'k', 'i', 'l', 'l', 's']\n"
     ]
    }
   ],
   "source": [
    "input_string = 'pwskills'\n",
    "\n",
    "char_list = [char for char in input_string]\n",
    "print(char_list)"
   ]
  },
  {
   "cell_type": "markdown",
   "metadata": {},
   "source": [
    "Q.8) Ans:"
   ]
  },
  {
   "cell_type": "code",
   "execution_count": 25,
   "metadata": {},
   "outputs": [
    {
     "name": "stdout",
     "output_type": "stream",
     "text": [
      "2 is a palindrome.\n"
     ]
    }
   ],
   "source": [
    "number = int(input(\"Enter a number: \"))\n",
    "\n",
    "original_number = number\n",
    "\n",
    "reversed_number = 0\n",
    "\n",
    "while number > 0:\n",
    "    digit = number % 10\n",
    "    reversed_number = reversed_number * 10 + digit\n",
    "    number = number // 10\n",
    "    \n",
    "if original_number == reversed_number:\n",
    "    print(f\"{original_number} is a palindrome.\")\n",
    "else:\n",
    "    print(f\"{original_number} is not a palindrome\")"
   ]
  },
  {
   "cell_type": "markdown",
   "metadata": {},
   "source": [
    "Q.9) Ans:"
   ]
  },
  {
   "cell_type": "code",
   "execution_count": 26,
   "metadata": {},
   "outputs": [
    {
     "name": "stdout",
     "output_type": "stream",
     "text": [
      "[1, 3, 5, 7, 9, 11, 13, 15, 17, 19, 21, 23, 25, 27, 29, 31, 33, 35, 37, 39, 41, 43, 45, 47, 49, 51, 53, 55, 57, 59, 61, 63, 65, 67, 69, 71, 73, 75, 77, 79, 81, 83, 85, 87, 89, 91, 93, 95, 97, 99]\n"
     ]
    }
   ],
   "source": [
    "odd_numbers = [num for num in range (1, 101) if num % 2 != 0]\n",
    "print (odd_numbers)"
   ]
  },
  {
   "cell_type": "code",
   "execution_count": null,
   "metadata": {},
   "outputs": [],
   "source": []
  }
 ],
 "metadata": {
  "kernelspec": {
   "display_name": "Python 3",
   "language": "python",
   "name": "python3"
  },
  "language_info": {
   "codemirror_mode": {
    "name": "ipython",
    "version": 3
   },
   "file_extension": ".py",
   "mimetype": "text/x-python",
   "name": "python",
   "nbconvert_exporter": "python",
   "pygments_lexer": "ipython3",
   "version": "3.10.11"
  },
  "orig_nbformat": 4
 },
 "nbformat": 4,
 "nbformat_minor": 2
}
